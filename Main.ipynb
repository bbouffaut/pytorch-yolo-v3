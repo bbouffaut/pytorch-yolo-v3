{
 "cells": [
  {
   "cell_type": "code",
   "execution_count": 1,
   "metadata": {
    "ExecuteTime": {
     "end_time": "2019-03-23T00:04:32.503871Z",
     "start_time": "2019-03-23T00:04:32.482177Z"
    }
   },
   "outputs": [
    {
     "name": "stdout",
     "output_type": "stream",
     "text": [
      "<class 'settings.args'>\n"
     ]
    }
   ],
   "source": [
    "from settings import args\n",
    "\n",
    "print(args)"
   ]
  },
  {
   "cell_type": "code",
   "execution_count": 2,
   "metadata": {
    "ExecuteTime": {
     "end_time": "2019-03-23T00:04:48.861850Z",
     "start_time": "2019-03-23T00:04:36.728858Z"
    }
   },
   "outputs": [
    {
     "name": "stdout",
     "output_type": "stream",
     "text": [
      "Loading network.....\n",
      "Network successfully loaded\n"
     ]
    },
    {
     "name": "stderr",
     "output_type": "stream",
     "text": [
      "/usr/local/lib/python3.5/dist-packages/torch/nn/modules/upsampling.py:129: UserWarning: nn.Upsample is deprecated. Use nn.functional.interpolate instead.\n",
      "  warnings.warn(\"nn.{} is deprecated. Use nn.functional.interpolate instead.\".format(self.name))\n"
     ]
    },
    {
     "name": "stdout",
     "output_type": "stream",
     "text": [
      "eagle.jpg            predicted in  0.704 seconds\n",
      "Objects Detected:    bird\n",
      "----------------------------------------------------------\n",
      "herd_of_horses.jpg   predicted in  0.663 seconds\n",
      "Objects Detected:    horse horse horse horse\n",
      "----------------------------------------------------------\n",
      "img3.jpg             predicted in  0.666 seconds\n",
      "Objects Detected:    car car car car car car car truck traffic light\n",
      "----------------------------------------------------------\n",
      "person.jpg           predicted in  0.662 seconds\n",
      "Objects Detected:    person dog horse\n",
      "----------------------------------------------------------\n",
      "img1.jpg             predicted in  0.661 seconds\n",
      "Objects Detected:    person dog\n",
      "----------------------------------------------------------\n",
      "messi.jpg            predicted in  0.662 seconds\n",
      "Objects Detected:    person person person sports ball\n",
      "----------------------------------------------------------\n",
      "img4.jpg             predicted in  0.662 seconds\n",
      "Objects Detected:    chair chair chair clock\n",
      "----------------------------------------------------------\n",
      "img2.jpg             predicted in  0.660 seconds\n",
      "Objects Detected:    train\n",
      "----------------------------------------------------------\n",
      "dog.jpg              predicted in  0.662 seconds\n",
      "Objects Detected:    bicycle truck dog\n",
      "----------------------------------------------------------\n",
      "\n",
      "SUMMARY\n",
      "----------------------------------------------------------\n",
      "Task                     : Time Taken (in seconds)\n",
      "\n",
      "Reading addresses        : 0.000\n",
      "Loading batch            : 0.861\n",
      "Detection (9 images)     : 6.021\n",
      "Output Processing        : 0.000\n",
      "Drawing Boxes            : 0.163\n",
      "Average time_per_img     : 0.785\n",
      "----------------------------------------------------------\n"
     ]
    }
   ],
   "source": [
    "from detect import detect\n",
    "\n",
    "detect(args)"
   ]
  },
  {
   "cell_type": "code",
   "execution_count": null,
   "metadata": {},
   "outputs": [],
   "source": []
  }
 ],
 "metadata": {
  "kernelspec": {
   "display_name": "Python 3",
   "language": "python",
   "name": "python3"
  },
  "language_info": {
   "codemirror_mode": {
    "name": "ipython",
    "version": 3
   },
   "file_extension": ".py",
   "mimetype": "text/x-python",
   "name": "python",
   "nbconvert_exporter": "python",
   "pygments_lexer": "ipython3",
   "version": "3.5.2"
  },
  "varInspector": {
   "cols": {
    "lenName": 16,
    "lenType": 16,
    "lenVar": 40
   },
   "kernels_config": {
    "python": {
     "delete_cmd_postfix": "",
     "delete_cmd_prefix": "del ",
     "library": "var_list.py",
     "varRefreshCmd": "print(var_dic_list())"
    },
    "r": {
     "delete_cmd_postfix": ") ",
     "delete_cmd_prefix": "rm(",
     "library": "var_list.r",
     "varRefreshCmd": "cat(var_dic_list()) "
    }
   },
   "types_to_exclude": [
    "module",
    "function",
    "builtin_function_or_method",
    "instance",
    "_Feature"
   ],
   "window_display": true
  }
 },
 "nbformat": 4,
 "nbformat_minor": 2
}
